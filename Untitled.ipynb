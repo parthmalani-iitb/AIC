{
 "cells": [
  {
   "cell_type": "code",
   "execution_count": null,
   "id": "78a6c575",
   "metadata": {},
   "outputs": [],
   "source": [
    "import tensorflow as tf\n",
    "import tensorflow_datasets as tfds\n",
    "import sys\n",
    "\n",
    "sys.setrecursionlimit(3000)  # Set recursion limit to a higher value\n",
    "\n",
    "\n",
    "coco_builder = tfds.builder(\"coco/2017\")\n",
    "coco_builder.download_and_prepare(download_config=tfds.download.DownloadConfig(manual_dir='/path/to/manual_dir'))\n",
    "coco_train, coco_validation, coco_test = coco_builder.as_dataset(split=[\"train\", \"validation\", \"test\"], as_supervised=True)\n",
    "\n",
    "\n",
    "\n",
    "\n",
    "\n"
   ]
  },
  {
   "cell_type": "code",
   "execution_count": null,
   "id": "d09dc804",
   "metadata": {},
   "outputs": [],
   "source": [
    "from tensorflow.keras.applications import ResNet50\n",
    "from tensorflow.keras.layers import Dense, Flatten, Dropout\n",
    "from tensorflow.keras.models import Model\n",
    "from tensorflow.keras.optimizers import Adam\n",
    "from tensorflow.keras.losses import SparseCategoricalCrossentropy, MeanSquaredError\n",
    "\n",
    "# Load pre-trained ResNet50 model (excluding top layers)\n",
    "base_model = ResNet50(weights='imagenet', include_top=False, input_shape=(224, 224, 3))\n",
    "\n",
    "# Freeze the convolutional layers to prevent them from being trained\n",
    "base_model.trainable = False\n",
    "\n",
    "# Modify the final layers for object detection\n",
    "flatten = Flatten()(base_model.output)\n",
    "dense1 = Dense(1024, activation='relu')(flatten)\n",
    "dropout = Dropout(0.5)(dense1)\n",
    "dense2 = Dense(256, activation='relu')(dropout)\n",
    "output_boxes = Dense(4, name='bounding_box')(dense2)  # Output bounding box coordinates (x, y, w, h)\n",
    "output_classes = Dense(80, activation='softmax', name='class_label')(dense2)  # Output class labels (80 COCO classes)\n",
    "\n",
    "# Create the model\n",
    "model = Model(inputs=base_model.input, outputs=[output_boxes, output_classes])"
   ]
  },
  {
   "cell_type": "code",
   "execution_count": null,
   "id": "31fe4471",
   "metadata": {},
   "outputs": [],
   "source": [
    "import numpy as np\n",
    "\n",
    "# Generate random training data\n",
    "num_train_samples = 1000\n",
    "train_images = np.random.rand(num_train_samples, 224, 224, 3)  # Random images (1000 samples, 224x224 pixels, 3 channels)\n",
    "train_boxes = np.random.rand(num_train_samples, 4)  # Random bounding boxes (1000 samples, 4 coordinates: x, y, width, height)\n",
    "train_labels = np.random.randint(0, 80, size=num_train_samples)  # Random class labels (1000 samples, 80 classes)\n",
    "\n",
    "# Generate random validation data\n",
    "num_val_samples = 200\n",
    "val_images = np.random.rand(num_val_samples, 224, 224, 3)  # Random images (200 samples, 224x224 pixels, 3 channels)\n",
    "val_boxes = np.random.rand(num_val_samples, 4)  # Random bounding boxes (200 samples, 4 coordinates: x, y, width, height)\n",
    "val_labels = np.random.randint(0, 80, size=num_val_samples)  # Random class labels (200 samples, 80 classes)\n",
    "\n",
    "# Create TensorFlow Dataset objects for training and validation\n",
    "train_dataset = tf.data.Dataset.from_tensor_slices((train_images, {'bounding_box': train_boxes, 'class_label': train_labels}))\n",
    "val_dataset = tf.data.Dataset.from_tensor_slices((val_images, {'bounding_box': val_boxes, 'class_label': val_labels}))\n",
    "\n",
    "# Apply batching, shuffling, and prefetching\n",
    "batch_size = 32\n",
    "train_dataset = train_dataset.shuffle(buffer_size=1000).batch(batch_size).prefetch(tf.data.AUTOTUNE)\n",
    "val_dataset = val_dataset.batch(batch_size).prefetch(tf.data.AUTOTUNE)"
   ]
  },
  {
   "cell_type": "code",
   "execution_count": null,
   "id": "270dbec1",
   "metadata": {},
   "outputs": [],
   "source": [
    "\n",
    "\n",
    "\n",
    "\n",
    "# Compile the model\n",
    "model.compile(optimizer=Adam(), \n",
    "              loss={'bounding_box': MeanSquaredError(), 'class_label': SparseCategoricalCrossentropy()},\n",
    "              metrics={'bounding_box': 'accuracy', 'class_label': 'accuracy'})\n",
    "\n",
    "# Define training parameters\n",
    "epochs = 10\n",
    "\n",
    "# Train the model\n",
    "history = model.fit(train_dataset, \n",
    "                    epochs=epochs, \n",
    "                    batch_size=batch_size, \n",
    "                    validation_data=val_dataset)\n",
    "\n",
    "# Optionally, validate the model on a separate validation set\n",
    "# val_loss, val_acc = model.evaluate(val_dataset)\n",
    "\n",
    "# Once training is complete, you can save the model if needed\n",
    "# model.save('object_detection_model.h5')"
   ]
  }
 ],
 "metadata": {
  "kernelspec": {
   "display_name": "Python 3 (ipykernel)",
   "language": "python",
   "name": "python3"
  },
  "language_info": {
   "codemirror_mode": {
    "name": "ipython",
    "version": 3
   },
   "file_extension": ".py",
   "mimetype": "text/x-python",
   "name": "python",
   "nbconvert_exporter": "python",
   "pygments_lexer": "ipython3",
   "version": "3.12.3"
  }
 },
 "nbformat": 4,
 "nbformat_minor": 5
}
