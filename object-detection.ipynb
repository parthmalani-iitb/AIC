{
 "cells": [
  {
   "cell_type": "code",
   "execution_count": 17,
   "id": "78a6c575",
   "metadata": {},
   "outputs": [
    {
     "name": "stdout",
     "output_type": "stream",
     "text": [
      "Using downloaded and verified file: ./data/VOCtrainval_11-May-2012.tar\n",
      "Extracting ./data/VOCtrainval_11-May-2012.tar to ./data\n",
      "Using downloaded and verified file: ./data/VOCtrainval_11-May-2012.tar\n",
      "Extracting ./data/VOCtrainval_11-May-2012.tar to ./data\n"
     ]
    }
   ],
   "source": [
    "import tensorflow as tf\n",
    "import tensorflow_datasets as tfds\n",
    "import sys\n",
    "import torch \n",
    "from torchvision import datasets, transforms\n",
    "\n",
    "\n",
    "sys.setrecursionlimit(3000)  # Set recursion limit to a higher value\n",
    "\n",
    "\n",
    "from PIL import Image\n",
    "\n",
    "# Custom transformation to resize images and ensure they are of the same size\n",
    "class ResizeAndPad:\n",
    "    def __init__(self, target_size):\n",
    "        self.target_size = target_size\n",
    "\n",
    "    def __call__(self, image):\n",
    "        width, height = image.size\n",
    "        if width < self.target_size[0] or height < self.target_size[1]:\n",
    "            # Resize the image to fit within the target size while maintaining aspect ratio\n",
    "            ratio = min(self.target_size[0] / width, self.target_size[1] / height)\n",
    "            new_width = int(width * ratio)\n",
    "            new_height = int(height * ratio)\n",
    "            image = image.resize((new_width, new_height), Image.ANTIALIAS)\n",
    "\n",
    "        # Create a new blank image of the target size\n",
    "        new_image = Image.new(\"RGB\", self.target_size)\n",
    "        # Paste the resized image onto the blank image, centered\n",
    "        position = ((self.target_size[0] - new_width) // 2, (self.target_size[1] - new_height) // 2)\n",
    "        new_image.paste(image, position)\n",
    "        \n",
    "        return new_image\n",
    "\n",
    "# Define transform with resizing to ensure consistent dimensions\n",
    "transform = transforms.Compose([\n",
    "    ResizeAndPad((375, 500)),  # Resize and pad images to a fixed size\n",
    "    transforms.ToTensor(),\n",
    "    transforms.Normalize((0.5, 0.5, 0.5), (0.5, 0.5, 0.5))\n",
    "])\n",
    "\n",
    "\n",
    "# Download and load the PASCAL VOC dataset\n",
    "train_dataset = datasets.VOCDetection(root='./data', year='2012', image_set='train', download=True, transform=transform)\n",
    "test_dataset = datasets.VOCDetection(root='./data', year='2012', image_set='val', download=True, transform=transform)\n",
    "\n",
    "# Create data loaders\n",
    "train_loader = torch.utils.data.DataLoader(train_dataset, batch_size=32, shuffle=True)\n",
    "test_loader = torch.utils.data.DataLoader(test_dataset, batch_size=32, shuffle=False)\n",
    "\n",
    "\n",
    "\n",
    "\n",
    "\n",
    "\n",
    "\n",
    "\n"
   ]
  },
  {
   "cell_type": "code",
   "execution_count": 18,
   "id": "d09dc804",
   "metadata": {},
   "outputs": [],
   "source": [
    "from tensorflow.keras.applications import ResNet50\n",
    "from tensorflow.keras.layers import Dense, Flatten, Dropout\n",
    "from tensorflow.keras.models import Model\n",
    "from tensorflow.keras.optimizers import Adam\n",
    "from tensorflow.keras.losses import SparseCategoricalCrossentropy, MeanSquaredError\n",
    "\n",
    "# Load pre-trained ResNet50 model (excluding top layers)\n",
    "base_model = ResNet50(weights='/Users/parthmalani/Downloads/resnet50_weights_tf_dim_ordering_tf_kernels_notop.h5', include_top=False, input_shape=(224, 224, 3))\n",
    "\n",
    "# Freeze the convolutional layers to prevent them from being trained\n",
    "base_model.trainable = False\n",
    "\n",
    "# Modify the final layers for object detection\n",
    "flatten = Flatten()(base_model.output)\n",
    "dense1 = Dense(1024, activation='relu')(flatten)\n",
    "dropout = Dropout(0.5)(dense1)\n",
    "dense2 = Dense(256, activation='relu')(dropout)\n",
    "output_boxes = Dense(4, name='bounding_box')(dense2)  # Output bounding box coordinates (x, y, w, h)\n",
    "output_classes = Dense(80, activation='softmax', name='class_label')(dense2)  # Output class labels (80 COCO classes)\n",
    "\n",
    "# Create the model\n",
    "model = Model(inputs=base_model.input, outputs=[output_boxes, output_classes])"
   ]
  },
  {
   "cell_type": "code",
   "execution_count": 19,
   "id": "31fe4471",
   "metadata": {},
   "outputs": [],
   "source": [
    "import numpy as np\n",
    "\n",
    "# Generate random training data\n",
    "num_train_samples = 1000\n",
    "train_images = np.random.rand(num_train_samples, 224, 224, 3)  # Random images (1000 samples, 224x224 pixels, 3 channels)\n",
    "train_boxes = np.random.rand(num_train_samples, 4)  # Random bounding boxes (1000 samples, 4 coordinates: x, y, width, height)\n",
    "train_labels = np.random.randint(0, 80, size=num_train_samples)  # Random class labels (1000 samples, 80 classes)\n",
    "\n",
    "# Generate random validation data\n",
    "num_val_samples = 200\n",
    "val_images = np.random.rand(num_val_samples, 224, 224, 3)  # Random images (200 samples, 224x224 pixels, 3 channels)\n",
    "val_boxes = np.random.rand(num_val_samples, 4)  # Random bounding boxes (200 samples, 4 coordinates: x, y, width, height)\n",
    "val_labels = np.random.randint(0, 80, size=num_val_samples)  # Random class labels (200 samples, 80 classes)\n",
    "\n",
    "# Create TensorFlow Dataset objects for training and validation\n",
    "train_dataset = tf.data.Dataset.from_tensor_slices((train_images, {'bounding_box': train_boxes, 'class_label': train_labels}))\n",
    "val_dataset = tf.data.Dataset.from_tensor_slices((val_images, {'bounding_box': val_boxes, 'class_label': val_labels}))\n",
    "\n",
    "# Apply batching, shuffling, and prefetching\n",
    "batch_size = 32\n",
    "train_dataset = train_dataset.shuffle(buffer_size=1000).batch(batch_size).prefetch(tf.data.AUTOTUNE)\n",
    "val_dataset = val_dataset.batch(batch_size).prefetch(tf.data.AUTOTUNE)"
   ]
  },
  {
   "cell_type": "code",
   "execution_count": 20,
   "id": "270dbec1",
   "metadata": {},
   "outputs": [
    {
     "name": "stdout",
     "output_type": "stream",
     "text": [
      "Epoch 1/10\n"
     ]
    },
    {
     "name": "stdout",
     "output_type": "stream",
     "text": [
      "\u001b[1m32/32\u001b[0m \u001b[32m━━━━━━━━━━━━━━━━━━━━\u001b[0m\u001b[37m\u001b[0m \u001b[1m182s\u001b[0m 5s/step - bounding_box_accuracy: 0.2426 - class_label_accuracy: 0.0133 - loss: 150.8083 - val_bounding_box_accuracy: 0.2650 - val_class_label_accuracy: 0.0100 - val_loss: 4.6822\n",
      "Epoch 2/10\n",
      "\u001b[1m32/32\u001b[0m \u001b[32m━━━━━━━━━━━━━━━━━━━━\u001b[0m\u001b[37m\u001b[0m \u001b[1m164s\u001b[0m 5s/step - bounding_box_accuracy: 0.2657 - class_label_accuracy: 0.0205 - loss: 4.9148 - val_bounding_box_accuracy: 0.2300 - val_class_label_accuracy: 0.0100 - val_loss: 4.5194\n",
      "Epoch 3/10\n",
      "\u001b[1m32/32\u001b[0m \u001b[32m━━━━━━━━━━━━━━━━━━━━\u001b[0m\u001b[37m\u001b[0m \u001b[1m75s\u001b[0m 2s/step - bounding_box_accuracy: 0.2664 - class_label_accuracy: 0.0115 - loss: 4.5703 - val_bounding_box_accuracy: 0.2750 - val_class_label_accuracy: 0.0150 - val_loss: 4.5138\n",
      "Epoch 4/10\n",
      "\u001b[1m32/32\u001b[0m \u001b[32m━━━━━━━━━━━━━━━━━━━━\u001b[0m\u001b[37m\u001b[0m \u001b[1m81s\u001b[0m 3s/step - bounding_box_accuracy: 0.2292 - class_label_accuracy: 0.0096 - loss: 4.5310 - val_bounding_box_accuracy: 0.2450 - val_class_label_accuracy: 0.0150 - val_loss: 4.5014\n",
      "Epoch 5/10\n",
      "\u001b[1m32/32\u001b[0m \u001b[32m━━━━━━━━━━━━━━━━━━━━\u001b[0m\u001b[37m\u001b[0m \u001b[1m79s\u001b[0m 2s/step - bounding_box_accuracy: 0.2444 - class_label_accuracy: 0.0121 - loss: 4.5317 - val_bounding_box_accuracy: 0.2450 - val_class_label_accuracy: 0.0200 - val_loss: 4.4950\n",
      "Epoch 6/10\n",
      "\u001b[1m32/32\u001b[0m \u001b[32m━━━━━━━━━━━━━━━━━━━━\u001b[0m\u001b[37m\u001b[0m \u001b[1m83s\u001b[0m 3s/step - bounding_box_accuracy: 0.2543 - class_label_accuracy: 0.0190 - loss: 4.5036 - val_bounding_box_accuracy: 0.2700 - val_class_label_accuracy: 0.0200 - val_loss: 4.4873\n",
      "Epoch 7/10\n",
      "\u001b[1m32/32\u001b[0m \u001b[32m━━━━━━━━━━━━━━━━━━━━\u001b[0m\u001b[37m\u001b[0m \u001b[1m82s\u001b[0m 3s/step - bounding_box_accuracy: 0.2401 - class_label_accuracy: 0.0161 - loss: 4.4872 - val_bounding_box_accuracy: 0.2700 - val_class_label_accuracy: 0.0200 - val_loss: 4.5040\n",
      "Epoch 8/10\n",
      "\u001b[1m32/32\u001b[0m \u001b[32m━━━━━━━━━━━━━━━━━━━━\u001b[0m\u001b[37m\u001b[0m \u001b[1m170s\u001b[0m 5s/step - bounding_box_accuracy: 0.2661 - class_label_accuracy: 0.0230 - loss: 4.4822 - val_bounding_box_accuracy: 0.2700 - val_class_label_accuracy: 0.0150 - val_loss: 4.4902\n",
      "Epoch 9/10\n",
      "\u001b[1m32/32\u001b[0m \u001b[32m━━━━━━━━━━━━━━━━━━━━\u001b[0m\u001b[37m\u001b[0m \u001b[1m181s\u001b[0m 6s/step - bounding_box_accuracy: 0.2388 - class_label_accuracy: 0.0182 - loss: 4.4643 - val_bounding_box_accuracy: 0.2450 - val_class_label_accuracy: 0.0200 - val_loss: 4.5129\n",
      "Epoch 10/10\n",
      "\u001b[1m32/32\u001b[0m \u001b[32m━━━━━━━━━━━━━━━━━━━━\u001b[0m\u001b[37m\u001b[0m \u001b[1m160s\u001b[0m 5s/step - bounding_box_accuracy: 0.2736 - class_label_accuracy: 0.0307 - loss: 4.4690 - val_bounding_box_accuracy: 0.2300 - val_class_label_accuracy: 0.0200 - val_loss: 4.5271\n",
      "\u001b[1m7/7\u001b[0m \u001b[32m━━━━━━━━━━━━━━━━━━━━\u001b[0m\u001b[37m\u001b[0m \u001b[1m17s\u001b[0m 2s/step - bounding_box_accuracy: 0.2267 - class_label_accuracy: 0.0285 - loss: 4.5220\n"
     ]
    },
    {
     "name": "stderr",
     "output_type": "stream",
     "text": [
      "WARNING:absl:You are saving your model as an HDF5 file via `model.save()` or `keras.saving.save_model(model)`. This file format is considered legacy. We recommend using instead the native Keras format, e.g. `model.save('my_model.keras')` or `keras.saving.save_model(model, 'my_model.keras')`. \n"
     ]
    }
   ],
   "source": [
    "\n",
    "\n",
    "\n",
    "\n",
    "# Compile the model\n",
    "model.compile(optimizer=Adam(), \n",
    "              loss={'bounding_box': MeanSquaredError(), 'class_label': SparseCategoricalCrossentropy()},\n",
    "              metrics={'bounding_box': 'accuracy', 'class_label': 'accuracy'})\n",
    "\n",
    "# Define training parameters\n",
    "epochs = 10\n",
    "\n",
    "# Train the model\n",
    "history = model.fit(train_dataset, \n",
    "                    epochs=epochs, \n",
    "                    batch_size=batch_size, \n",
    "                    validation_data=val_dataset)\n",
    "\n",
    "# Optionally, validate the model on a separate validation set\n",
    "val_metrics = model.evaluate(val_dataset)\n",
    "\n",
    "# Extract the validation loss and accuracy from the returned metrics\n",
    "val_loss, val_acc = val_metrics[0], val_metrics[1]\n",
    "\n",
    "\n",
    "# Once training is complete, you can save the model if needed\n",
    "model.save('object_detection_model.h5')"
   ]
  }
 ],
 "metadata": {
  "kernelspec": {
   "display_name": "Python 3 (ipykernel)",
   "language": "python",
   "name": "python3"
  },
  "language_info": {
   "codemirror_mode": {
    "name": "ipython",
    "version": 3
   },
   "file_extension": ".py",
   "mimetype": "text/x-python",
   "name": "python",
   "nbconvert_exporter": "python",
   "pygments_lexer": "ipython3",
   "version": "3.12.3"
  }
 },
 "nbformat": 4,
 "nbformat_minor": 5
}
